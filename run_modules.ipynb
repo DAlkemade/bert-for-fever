{
  "nbformat": 4,
  "nbformat_minor": 0,
  "metadata": {
    "colab": {
      "name": "run_modules.ipynb",
      "provenance": [],
      "collapsed_sections": [],
      "authorship_tag": "ABX9TyOBo3iY3Jw3zmqSohzJi64j",
      "include_colab_link": true
    },
    "kernelspec": {
      "name": "python3",
      "display_name": "Python 3"
    },
    "accelerator": "GPU"
  },
  "cells": [
    {
      "cell_type": "markdown",
      "metadata": {
        "id": "view-in-github",
        "colab_type": "text"
      },
      "source": [
        "<a href=\"https://colab.research.google.com/github/DAlkemade/bert-for-fever/blob/master/run_modules.ipynb\" target=\"_parent\"><img src=\"https://colab.research.google.com/assets/colab-badge.svg\" alt=\"Open In Colab\"/></a>"
      ]
    },
    {
      "cell_type": "code",
      "metadata": {
        "id": "93zl7xTCrjZx",
        "colab_type": "code",
        "outputId": "9ec77aef-0d9c-4c91-b321-0ca79041831a",
        "colab": {
          "base_uri": "https://localhost:8080/",
          "height": 408
        }
      },
      "source": [
        "!pip install torch\n",
        "!pip install transformers\n",
        "try:\n",
        "  # %tensorflow_version only exists in Colab.\n",
        "  %tensorflow_version 2.x\n",
        "except Exception:\n",
        "  pass"
      ],
      "execution_count": 11,
      "outputs": [
        {
          "output_type": "stream",
          "text": [
            "Requirement already satisfied: torch in /usr/local/lib/python3.6/dist-packages (1.4.0)\n",
            "Requirement already satisfied: transformers in /usr/local/lib/python3.6/dist-packages (2.4.1)\n",
            "Requirement already satisfied: tqdm>=4.27 in /usr/local/lib/python3.6/dist-packages (from transformers) (4.28.1)\n",
            "Requirement already satisfied: boto3 in /usr/local/lib/python3.6/dist-packages (from transformers) (1.11.10)\n",
            "Requirement already satisfied: numpy in /tensorflow-2.1.0/python3.6 (from transformers) (1.18.1)\n",
            "Requirement already satisfied: sacremoses in /usr/local/lib/python3.6/dist-packages (from transformers) (0.0.38)\n",
            "Requirement already satisfied: sentencepiece in /usr/local/lib/python3.6/dist-packages (from transformers) (0.1.85)\n",
            "Requirement already satisfied: tokenizers==0.0.11 in /usr/local/lib/python3.6/dist-packages (from transformers) (0.0.11)\n",
            "Requirement already satisfied: filelock in /usr/local/lib/python3.6/dist-packages (from transformers) (3.0.12)\n",
            "Requirement already satisfied: regex!=2019.12.17 in /usr/local/lib/python3.6/dist-packages (from transformers) (2019.12.20)\n",
            "Requirement already satisfied: requests in /tensorflow-2.1.0/python3.6 (from transformers) (2.22.0)\n",
            "Requirement already satisfied: jmespath<1.0.0,>=0.7.1 in /usr/local/lib/python3.6/dist-packages (from boto3->transformers) (0.9.4)\n",
            "Requirement already satisfied: s3transfer<0.4.0,>=0.3.0 in /usr/local/lib/python3.6/dist-packages (from boto3->transformers) (0.3.2)\n",
            "Requirement already satisfied: botocore<1.15.0,>=1.14.10 in /usr/local/lib/python3.6/dist-packages (from boto3->transformers) (1.14.10)\n",
            "Requirement already satisfied: joblib in /usr/local/lib/python3.6/dist-packages (from sacremoses->transformers) (0.14.1)\n",
            "Requirement already satisfied: six in /tensorflow-2.1.0/python3.6 (from sacremoses->transformers) (1.14.0)\n",
            "Requirement already satisfied: click in /usr/local/lib/python3.6/dist-packages (from sacremoses->transformers) (7.0)\n",
            "Requirement already satisfied: certifi>=2017.4.17 in /tensorflow-2.1.0/python3.6 (from requests->transformers) (2019.11.28)\n",
            "Requirement already satisfied: urllib3!=1.25.0,!=1.25.1,<1.26,>=1.21.1 in /tensorflow-2.1.0/python3.6 (from requests->transformers) (1.25.8)\n",
            "Requirement already satisfied: idna<2.9,>=2.5 in /tensorflow-2.1.0/python3.6 (from requests->transformers) (2.8)\n",
            "Requirement already satisfied: chardet<3.1.0,>=3.0.2 in /tensorflow-2.1.0/python3.6 (from requests->transformers) (3.0.4)\n",
            "Requirement already satisfied: python-dateutil<3.0.0,>=2.1 in /usr/local/lib/python3.6/dist-packages (from botocore<1.15.0,>=1.14.10->boto3->transformers) (2.6.1)\n",
            "Requirement already satisfied: docutils<0.16,>=0.10 in /usr/local/lib/python3.6/dist-packages (from botocore<1.15.0,>=1.14.10->boto3->transformers) (0.15.2)\n"
          ],
          "name": "stdout"
        }
      ]
    },
    {
      "cell_type": "code",
      "metadata": {
        "id": "9wqk6x-tklqD",
        "colab_type": "code",
        "outputId": "7929727b-7cd0-45fb-bd4f-528cccefeb31",
        "colab": {
          "base_uri": "https://localhost:8080/",
          "height": 68
        }
      },
      "source": [
        "%cd\n",
        "!git clone https://github.com/DAlkemade/bert-for-fever.git\n",
        "!ls"
      ],
      "execution_count": 12,
      "outputs": [
        {
          "output_type": "stream",
          "text": [
            "/root\n",
            "fatal: destination path 'bert-for-fever' already exists and is not an empty directory.\n",
            "bert-for-fever\n"
          ],
          "name": "stdout"
        }
      ]
    },
    {
      "cell_type": "code",
      "metadata": {
        "id": "TBQ0yytllMKt",
        "colab_type": "code",
        "outputId": "45c1ebcb-c244-45d3-e6c5-0046f30622a0",
        "colab": {
          "base_uri": "https://localhost:8080/",
          "height": 408
        }
      },
      "source": [
        "%cd\n",
        "%cd bert-for-fever/\n",
        "!ls\n",
        "!git checkout convert-to-python\n",
        "!git pull"
      ],
      "execution_count": 13,
      "outputs": [
        {
          "output_type": "stream",
          "text": [
            "/root\n",
            "/root/bert-for-fever\n",
            "inference_sentence_selection.py  preprocess_sentences.py\n",
            "inference_util.py\t\t __pycache__\n",
            "input.py\t\t\t README.md\n",
            "notebooks\t\t\t tokenize_preprocessed_data.py\n",
            "old_notebooks\t\t\t train_bert_classifier.py\n",
            "preprocess_documents.py\n",
            "Already on 'convert-to-python'\n",
            "Your branch is up to date with 'origin/convert-to-python'.\n",
            "remote: Enumerating objects: 6, done.\u001b[K\n",
            "remote: Counting objects: 100% (6/6), done.\u001b[K\n",
            "remote: Compressing objects: 100% (2/2), done.\u001b[K\n",
            "remote: Total 4 (delta 2), reused 4 (delta 2), pack-reused 0\u001b[K\n",
            "Unpacking objects: 100% (4/4), done.\n",
            "From https://github.com/DAlkemade/bert-for-fever\n",
            "   1fe10c6..9295d6d  convert-to-python -> origin/convert-to-python\n",
            "Updating 1fe10c6..9295d6d\n",
            "Fast-forward\n",
            " inference_document_selection.py | 161 \u001b[32m++++++++++++++++++++++++++++++++++++++++\u001b[m\n",
            " inference_sentence_selection.py |  45 \u001b[32m++++++\u001b[m\u001b[31m-----\u001b[m\n",
            " 2 files changed, 189 insertions(+), 17 deletions(-)\n",
            " create mode 100644 inference_document_selection.py\n"
          ],
          "name": "stdout"
        }
      ]
    },
    {
      "cell_type": "code",
      "metadata": {
        "id": "ljpbkgqx6dFF",
        "colab_type": "code",
        "colab": {
          "base_uri": "https://localhost:8080/",
          "height": 34
        },
        "outputId": "f6f1a634-060c-4225-a743-fe8a573c3cf6"
      },
      "source": [
        "from google.colab import drive\n",
        "drive.mount('/content/drive')"
      ],
      "execution_count": 14,
      "outputs": [
        {
          "output_type": "stream",
          "text": [
            "Drive already mounted at /content/drive; to attempt to forcibly remount, call drive.mount(\"/content/drive\", force_remount=True).\n"
          ],
          "name": "stdout"
        }
      ]
    },
    {
      "cell_type": "code",
      "metadata": {
        "id": "PjVVTa-kky9D",
        "colab_type": "code",
        "colab": {}
      },
      "source": [
        "from enum import Enum\n",
        "class Script(Enum):\n",
        "    TOKENIZE = 1\n",
        "    TRAIN = 2\n",
        "    INFERENCE_SENTENCES = 3\n",
        "    INFERENCE_DOCUMENTS = 4\n",
        "script = Script.INFERENCE_SENTENCES"
      ],
      "execution_count": 0,
      "outputs": []
    },
    {
      "cell_type": "code",
      "metadata": {
        "id": "ce3n3JrP_vyV",
        "colab_type": "code",
        "colab": {
          "base_uri": "https://localhost:8080/",
          "height": 190
        },
        "outputId": "6ad77a9e-ebc4-4208-8219-13a392eeca64"
      },
      "source": [
        "if script == Script.TOKENIZE:\n",
        "    # sentences: '/content/drive/My Drive/Overig/dev_sentences_from_bert_doc_selector.tsv'\n",
        "    # documents: '/content/drive/My Drive/Overig/document_selection_test_n=50.tsv'\n",
        "    !python tokenize_preprocessed_data.py --data '/content/drive/My Drive/Overig/dev_sentences_from_bert_doc_selector.tsv'\n",
        "if script == Script.TRAIN:\n",
        "    !python train_bert_classifier.py --features '200103000018features_document_selection_from_document_selection_train_n=5'\n",
        "if script == Script.INFERENCE_SENTENCES:\n",
        "    !python inference_sentence_selection.py --features '200110134032features_include_title=False_from_dev_sentences_from_bert_doc_selector' --data 'dev_sentences_from_bert_doc_selector.tsv' --model 'results2ndmodel'\n",
        "if script == Script.INFERENCE_DOCUMENTS:\n",
        "    !python inference_sentence_selection.py --features '200104213845features_document_selection_from_document_selection_test_n=50' --data 'document_selection_test_n=50.tsv' --model 'doc model hnm' --docs 'test_baseline_pages.sentences.p5.s5.jsonl' --previousevidence False --firsthalf True --halfdata True"
      ],
      "execution_count": 16,
      "outputs": [
        {
          "output_type": "stream",
          "text": [
            "Tesla T4\n",
            "Load cached dev features\n",
            "Loaded features\n",
            "Len features: 740578\n",
            "Create dev dataloader\n",
            "tcmalloc: large alloc 1516707840 bytes == 0x177c6e000 @  0x7f930a2beb6b 0x7f930a2de379 0x7f92aa7b5b4a 0x7f92aa7b75fa 0x7f92acae778a 0x7f92acd3030b 0x7f92acd77b37 0x7f92f5bfead5 0x7f92f5c0050a 0x7f92f5c00fa5 0x7f92f584bd71 0x50ac25 0x50d390 0x509d48 0x50aa7d 0x50c5b9 0x508245 0x50b403 0x635222 0x6352d7 0x638a8f 0x639631 0x4b0f40 0x7f9309ed9b97 0x5b2fda\n",
            "tcmalloc: large alloc 1516707840 bytes == 0x7f91525ce000 @  0x7f930a2beb6b 0x7f930a2de379 0x7f92aa7b5b4a 0x7f92aa7b75fa 0x7f92acae778a 0x7f92acd3030b 0x7f92acd77b37 0x7f92f5bfead5 0x7f92f5c0050a 0x7f92f5c00fa5 0x7f92f584bd71 0x50ac25 0x50d390 0x509d48 0x50aa7d 0x50c5b9 0x508245 0x50b403 0x635222 0x6352d7 0x638a8f 0x639631 0x4b0f40 0x7f9309ed9b97 0x5b2fda\n",
            "tcmalloc: large alloc 1516707840 bytes == 0x7f90f7f5c000 @  0x7f930a2beb6b 0x7f930a2de379 0x7f92aa7b5b4a 0x7f92aa7b75fa 0x7f92acae778a 0x7f92acd3030b 0x7f92acd77b37 0x7f92f5bfead5 0x7f92f5c0050a 0x7f92f5c00fa5 0x7f92f584bd71 0x50ac25 0x50d390 0x509d48 0x50aa7d 0x50c5b9 0x508245 0x50b403 0x635222 0x6352d7 0x638a8f 0x639631 0x4b0f40 0x7f9309ed9b97 0x5b2fda\n",
            "^C\n"
          ],
          "name": "stdout"
        }
      ]
    }
  ]
}