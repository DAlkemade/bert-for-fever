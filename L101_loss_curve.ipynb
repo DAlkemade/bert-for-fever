{
  "nbformat": 4,
  "nbformat_minor": 0,
  "metadata": {
    "colab": {
      "name": "L101_loss_curve.ipynb",
      "provenance": [],
      "collapsed_sections": [],
      "include_colab_link": true
    },
    "kernelspec": {
      "name": "python3",
      "display_name": "Python 3"
    }
  },
  "cells": [
    {
      "cell_type": "markdown",
      "metadata": {
        "id": "view-in-github",
        "colab_type": "text"
      },
      "source": [
        "<a href=\"https://colab.research.google.com/github/DAlkemade/bert-for-fever/blob/master/L101_loss_curve.ipynb\" target=\"_parent\"><img src=\"https://colab.research.google.com/assets/colab-badge.svg\" alt=\"Open In Colab\"/></a>"
      ]
    },
    {
      "cell_type": "markdown",
      "metadata": {
        "id": "wNLCQq9331v9",
        "colab_type": "text"
      },
      "source": [
        "Plot training loss curve"
      ]
    },
    {
      "cell_type": "code",
      "metadata": {
        "id": "RlpjSOQJ7wCZ",
        "colab_type": "code",
        "colab": {}
      },
      "source": [
        "import matplotlib.pyplot as plt\n",
        "from scipy.signal import lfilter"
      ],
      "execution_count": 0,
      "outputs": []
    },
    {
      "cell_type": "code",
      "metadata": {
        "id": "Bdypjl4cehU2",
        "colab_type": "code",
        "outputId": "49671ea0-4282-41f7-910c-bb8e300d5e01",
        "colab": {
          "base_uri": "https://localhost:8080/",
          "height": 301
        }
      },
      "source": [
        "with open('D:\\\\Google Drive\\\\Cambridge\\\\L101\\\\results2ndmodel\\\\losses.txt', \"r\") as f:\n",
        "    losses = [float(line.strip()) for line in f]\n",
        "# from https://stackoverflow.com/a/37599921\n",
        "\n",
        "n = 100  # the larger n is, the smoother curve will be\n",
        "b = [1.0 / n] * n\n",
        "a = 1\n",
        "from scipy.signal import lfilter, lfilter_zi, butter\n",
        "zi = lfilter_zi(b, a)\n",
        "\n",
        "\n",
        "yy, zo = lfilter(b,a,losses, zi=zi)\n",
        "plt.plot(yy, linewidth=2, linestyle=\"-\", c=\"b\")  # smooth by filter\n",
        "plt.xlabel('Batch number')\n",
        "plt.ylabel('Loss')"
      ],
      "execution_count": 0,
      "outputs": [
        {
          "output_type": "execute_result",
          "data": {
            "text/plain": [
              "Text(0, 0.5, 'Loss')"
            ]
          },
          "metadata": {
            "tags": []
          },
          "execution_count": 5
        },
        {
          "output_type": "display_data",
          "data": {
            "text/plain": [
              "<Figure size 432x288 with 1 Axes>"
            ],
            "image/png": "[encoded data removed]"
          },
          "metadata": {
            "tags": [],
            "needs_background": "light"
          }
        }
      ]
    },
    {
      "cell_type": "code",
      "metadata": {
        "id": "UCFsflU5eaZN",
        "colab_type": "code",
        "colab": {}
      },
      "source": [
        ""
      ],
      "execution_count": 0,
      "outputs": []
    }
  ]
}